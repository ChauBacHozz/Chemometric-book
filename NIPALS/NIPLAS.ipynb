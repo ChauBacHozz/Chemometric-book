{
 "cells": [
  {
   "cell_type": "code",
   "execution_count": 493,
   "metadata": {},
   "outputs": [],
   "source": [
    "import matplotlib.pyplot as plt\n",
    "import numpy as np\n",
    "import pandas as pd\n",
    "from sklearn.decomposition import PCA\n",
    "from sklearn.preprocessing import MinMaxScaler, StandardScaler"
   ]
  },
  {
   "cell_type": "code",
   "execution_count": 494,
   "metadata": {},
   "outputs": [],
   "source": [
    "def plot_points(X):\n",
    "    fig = plt.figure()\n",
    "    ax = fig.add_subplot()\n",
    "    ax.set_aspect('equal', adjustable='box')\n",
    "    ax.scatter(X[:, 0], X[:, 1], cmap='cividis')\n",
    "    plt.xlabel('X1-axis')\n",
    "    plt.ylabel('X2-axis')\n",
    "    plt.xlim(-8, 8)\n",
    "    plt.ylim(-8, 8)\n",
    "    return ax, fig"
   ]
  },
  {
   "cell_type": "code",
   "execution_count": 495,
   "metadata": {},
   "outputs": [
    {
     "name": "stdout",
     "output_type": "stream",
     "text": [
      "(4, 2)\n"
     ]
    },
    {
     "name": "stderr",
     "output_type": "stream",
     "text": [
      "C:\\Users\\84866\\AppData\\Local\\Temp\\ipykernel_9556\\3934142692.py:5: UserWarning: No data for colormapping provided via 'c'. Parameters 'cmap' will be ignored\n",
      "  ax.scatter(X[:, 0], X[:, 1], cmap='cividis')\n"
     ]
    },
    {
     "data": {
      "text/plain": [
       "(<Axes: xlabel='X1-axis', ylabel='X2-axis'>, <Figure size 640x480 with 1 Axes>)"
      ]
     },
     "execution_count": 495,
     "metadata": {},
     "output_type": "execute_result"
    },
    {
     "data": {
      "image/png": "[encoded data removed]",
      "text/plain": [
       "<Figure size 640x480 with 1 Axes>"
      ]
     },
     "metadata": {},
     "output_type": "display_data"
    }
   ],
   "source": [
    "X = np.array([[1,2],\n",
    "              [2,2],\n",
    "              [3,5],\n",
    "              [4,6]])\n",
    "print(X.shape)\n",
    "# scaler = StandardScaler()\n",
    "# X = scaler.fit_transform(X)\n",
    "plot_points(X)"
   ]
  },
  {
   "cell_type": "code",
   "execution_count": 496,
   "metadata": {},
   "outputs": [
    {
     "data": {
      "text/plain": [
       "(4, 1)"
      ]
     },
     "execution_count": 496,
     "metadata": {},
     "output_type": "execute_result"
    }
   ],
   "source": [
    "t_1 = np.random.rand(4, 1)\n",
    "t_1_old = t_1\n",
    "t_1.shape"
   ]
  },
  {
   "cell_type": "code",
   "execution_count": 497,
   "metadata": {},
   "outputs": [],
   "source": [
    "p_1T = np.linalg.inv(t_1.T@t_1) @ t_1.T @ X"
   ]
  },
  {
   "cell_type": "code",
   "execution_count": 498,
   "metadata": {},
   "outputs": [
    {
     "data": {
      "text/plain": [
       "array([[0.56274743, 0.82662889]])"
      ]
     },
     "execution_count": 498,
     "metadata": {},
     "output_type": "execute_result"
    }
   ],
   "source": [
    "p_1T = p_1T / np.linalg.norm(p_1T)\n",
    "p_1T"
   ]
  },
  {
   "cell_type": "code",
   "execution_count": 499,
   "metadata": {},
   "outputs": [
    {
     "name": "stderr",
     "output_type": "stream",
     "text": [
      "C:\\Users\\84866\\AppData\\Local\\Temp\\ipykernel_9556\\3934142692.py:5: UserWarning: No data for colormapping provided via 'c'. Parameters 'cmap' will be ignored\n",
      "  ax.scatter(X[:, 0], X[:, 1], cmap='cividis')\n"
     ]
    },
    {
     "data": {
      "image/png": "[encoded data removed]",
      "text/plain": [
       "<Figure size 640x480 with 1 Axes>"
      ]
     },
     "metadata": {},
     "output_type": "display_data"
    }
   ],
   "source": [
    "plot_points(X)\n",
    "plt.plot([0, p_1T[0][0] * 10], [0, p_1T[0][1] * 10])\n",
    "plt.show()"
   ]
  },
  {
   "cell_type": "code",
   "execution_count": 500,
   "metadata": {},
   "outputs": [],
   "source": [
    "t_1 = X @ p_1T.T"
   ]
  },
  {
   "cell_type": "code",
   "execution_count": 501,
   "metadata": {},
   "outputs": [
    {
     "name": "stdout",
     "output_type": "stream",
     "text": [
      "1\n",
      "[[0.54887846 0.83590217]]\n",
      "2\n",
      "[[0.54881382 0.83594461]]\n",
      "3\n",
      "[[0.54881352 0.83594481]]\n",
      "4\n",
      "[[0.54881352 0.83594481]]\n",
      "5\n",
      "[[0.54881352 0.83594481]]\n",
      "6\n",
      "[[0.54881352 0.83594481]]\n",
      "7\n",
      "[[0.54881352 0.83594481]]\n"
     ]
    }
   ],
   "source": [
    "i = 0\n",
    "while (not np.array_equal(t_1_old, t_1)):\n",
    "    i += 1\n",
    "    print(i)\n",
    "    t_1_old = t_1\n",
    "    p_1T = np.linalg.inv(t_1.T@t_1) @ t_1.T @ X\n",
    "    p_1T = p_1T / np.linalg.norm(p_1T)\n",
    "    t_1 = X @ p_1T.T\n",
    "    print(p_1T)"
   ]
  },
  {
   "cell_type": "code",
   "execution_count": 502,
   "metadata": {},
   "outputs": [],
   "source": [
    "E = X - t_1 @ p_1T"
   ]
  },
  {
   "cell_type": "code",
   "execution_count": 503,
   "metadata": {},
   "outputs": [
    {
     "data": {
      "text/plain": [
       "(4, 1)"
      ]
     },
     "execution_count": 503,
     "metadata": {},
     "output_type": "execute_result"
    }
   ],
   "source": [
    "t_2 = X[:, 1].reshape((-1, 1))\n",
    "t_2_old = t_2\n",
    "t_2.shape"
   ]
  },
  {
   "cell_type": "code",
   "execution_count": 504,
   "metadata": {},
   "outputs": [],
   "source": [
    "p_2T = np.linalg.inv(t_2.T@t_2) @ t_2.T @ E"
   ]
  },
  {
   "cell_type": "code",
   "execution_count": 505,
   "metadata": {},
   "outputs": [
    {
     "data": {
      "text/plain": [
       "array([[-0.83594481,  0.54881352]])"
      ]
     },
     "execution_count": 505,
     "metadata": {},
     "output_type": "execute_result"
    }
   ],
   "source": [
    "p_2T = p_2T / np.linalg.norm(p_2T)\n",
    "p_2T"
   ]
  },
  {
   "cell_type": "code",
   "execution_count": 506,
   "metadata": {},
   "outputs": [],
   "source": [
    "t_2 = E @ p_2T.T"
   ]
  },
  {
   "cell_type": "code",
   "execution_count": 507,
   "metadata": {},
   "outputs": [
    {
     "name": "stderr",
     "output_type": "stream",
     "text": [
      "C:\\Users\\84866\\AppData\\Local\\Temp\\ipykernel_9556\\3934142692.py:5: UserWarning: No data for colormapping provided via 'c'. Parameters 'cmap' will be ignored\n",
      "  ax.scatter(X[:, 0], X[:, 1], cmap='cividis')\n"
     ]
    },
    {
     "data": {
      "image/png": "[encoded data removed]",
      "text/plain": [
       "<Figure size 640x480 with 1 Axes>"
      ]
     },
     "metadata": {},
     "output_type": "display_data"
    }
   ],
   "source": [
    "plot_points(X)\n",
    "plt.plot([0, p_1T[0][0] * 10], [0, p_1T[0][1] * 10], c='r')\n",
    "plt.plot([0, p_2T[0][0] * 10], [0, p_2T[0][1] * 10], c='g')\n",
    "plt.show()"
   ]
  },
  {
   "cell_type": "code",
   "execution_count": 508,
   "metadata": {},
   "outputs": [
    {
     "name": "stdout",
     "output_type": "stream",
     "text": [
      "1\n",
      "[[-0.83594481  0.54881352]]\n",
      "2\n",
      "[[-0.83594481  0.54881352]]\n"
     ]
    }
   ],
   "source": [
    "i = 0\n",
    "while (not np.array_equal(t_2_old, t_2)):\n",
    "    i += 1\n",
    "    print(i)\n",
    "    t_2_old = t_2\n",
    "    p_2T = np.linalg.inv(t_2.T@t_2) @ t_2.T @ E\n",
    "    p_2T = p_2T / np.linalg.norm(p_2T)\n",
    "    t_2 = E @ p_2T.T\n",
    "    print(p_2T)"
   ]
  },
  {
   "cell_type": "code",
   "execution_count": 509,
   "metadata": {},
   "outputs": [
    {
     "data": {
      "text/plain": [
       "array([[ 0.52008651,  0.85411359],\n",
       "       [ 0.85411359, -0.52008651]])"
      ]
     },
     "execution_count": 509,
     "metadata": {},
     "output_type": "execute_result"
    }
   ],
   "source": [
    "pca = PCA(2)\n",
    "pca.fit(X)\n",
    "pca.components_"
   ]
  }
 ],
 "metadata": {
  "kernelspec": {
   "display_name": "Python 3",
   "language": "python",
   "name": "python3"
  },
  "language_info": {
   "codemirror_mode": {
    "name": "ipython",
    "version": 3
   },
   "file_extension": ".py",
   "mimetype": "text/x-python",
   "name": "python",
   "nbconvert_exporter": "python",
   "pygments_lexer": "ipython3",
   "version": "3.11.6"
  }
 },
 "nbformat": 4,
 "nbformat_minor": 2
}
