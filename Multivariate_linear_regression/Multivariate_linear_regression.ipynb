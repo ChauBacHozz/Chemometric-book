{
 "cells": [
  {
   "cell_type": "code",
   "execution_count": 10,
   "metadata": {},
   "outputs": [],
   "source": [
    "import numpy as np\n",
    "import pandas as pd\n",
    "import matplotlib.pyplot as plt\n",
    "\n",
    "train_data = pd.read_excel(\"data.xlsx\", \"train\")\n",
    "test_data = pd.read_excel(\"data.xlsx\", \"test\")\n",
    "\n",
    "X_train = train_data.iloc[:, 5:].values\n",
    "X_test = test_data.iloc[:, 5:].values\n",
    "\n",
    "y_train = train_data.iloc[:, 1:5].values\n",
    "y_test = test_data.iloc[:, 1:5].values"
   ]
  },
  {
   "cell_type": "code",
   "execution_count": 11,
   "metadata": {},
   "outputs": [
    {
     "name": "stdout",
     "output_type": "stream",
     "text": [
      "(7, 4)\n"
     ]
    },
    {
     "data": {
      "text/plain": [
       "(7, 5)"
      ]
     },
     "execution_count": 11,
     "metadata": {},
     "output_type": "execute_result"
    }
   ],
   "source": [
    "print(y_train.shape)\n",
    "X_train.shape"
   ]
  },
  {
   "cell_type": "code",
   "execution_count": 12,
   "metadata": {},
   "outputs": [
    {
     "name": "stdout",
     "output_type": "stream",
     "text": [
      "    As(III)      As(V)       DMA       MMA\n",
      "0  2.813440   7.262627  4.324158  2.233893\n",
      "1  2.906440   7.635763  2.764133  3.392223\n",
      "2  4.337868  10.370115  0.681186  5.217134\n",
      "     As(III)      As(V)        DMA        MMA\n",
      "0  12.537583  21.043779   3.907593  10.644297\n",
      "1   3.118677   9.082330   7.862245  13.074090\n",
      "2   3.602929   3.701154  31.881415   4.342673\n"
     ]
    }
   ],
   "source": [
    "A = np.linalg.inv((X_train.T @ X_train)) @ X_train.T @ y_train\n",
    "y_pred = X_test @ A\n",
    "# In ra màn hình kết quả nồng độ dự đoán\n",
    "print(pd.DataFrame(y_pred, columns = train_data.iloc[:, 1:5].columns))\n",
    "# In ra màn hình % sai số giữa nồng độ dự đoán so với nồng độ các dạng As trong tập test\n",
    "print(pd.DataFrame(np.abs(y_test - y_pred) / y_test * 100, \n",
    "                   columns = train_data.iloc[:, 1:5].columns))"
   ]
  },
  {
   "cell_type": "code",
   "execution_count": 13,
   "metadata": {},
   "outputs": [
    {
     "name": "stdout",
     "output_type": "stream",
     "text": [
      "[[12.5375835  21.04377941  3.90759283 10.64429742]\n",
      " [ 3.11867747  9.0823305   7.86224497 13.07408981]\n",
      " [ 3.6029288   3.70115379 31.88141546  4.34267287]]\n"
     ]
    }
   ],
   "source": [
    "print(np.abs(y_test - y_pred) / y_test * 100)"
   ]
  },
  {
   "cell_type": "code",
   "execution_count": 14,
   "metadata": {},
   "outputs": [
    {
     "name": "stdout",
     "output_type": "stream",
     "text": [
      "(7, 6) (3, 6)\n"
     ]
    }
   ],
   "source": [
    "X_train = np.concatenate((X_train, np.ones((X_train.shape[0], 1))), axis=1)\n",
    "X_test = np.concatenate((X_test, np.ones((X_test.shape[0], 1))), axis=1)\n",
    "print(X_train.shape, X_test.shape)"
   ]
  },
  {
   "cell_type": "code",
   "execution_count": 15,
   "metadata": {},
   "outputs": [
    {
     "name": "stdout",
     "output_type": "stream",
     "text": [
      "    As(III)     As(V)       DMA       MMA\n",
      "0  2.859239  7.067703  4.388340  2.306666\n",
      "1  2.885436  7.725155  2.734699  3.358849\n",
      "2  4.451463  9.886655  0.840372  5.397630\n",
      "     As(III)      As(V)        DMA        MMA\n",
      "0  14.369564  17.795053   2.481341   7.733366\n",
      "1   3.818795  10.359350   8.843357  11.961636\n",
      "2   1.078608   1.133447  15.962814   7.952598\n"
     ]
    }
   ],
   "source": [
    "A = np.linalg.inv((X_train.T @ X_train)) @ X_train.T @ y_train\n",
    "y_pred = X_test @ A\n",
    "# In ra màn hình kết quả nồng độ dự đoán\n",
    "print(pd.DataFrame(y_pred, columns = train_data.iloc[:, 1:5].columns))\n",
    "# In ra màn hình % sai số giữa nồng độ dự đoán so với nồng độ các dạng As trong tập test\n",
    "print(pd.DataFrame(np.abs(y_test - y_pred) / y_test * 100, \n",
    "                   columns = train_data.iloc[:, 1:5].columns))"
   ]
  }
 ],
 "metadata": {
  "kernelspec": {
   "display_name": "Python 3",
   "language": "python",
   "name": "python3"
  },
  "language_info": {
   "codemirror_mode": {
    "name": "ipython",
    "version": 3
   },
   "file_extension": ".py",
   "mimetype": "text/x-python",
   "name": "python",
   "nbconvert_exporter": "python",
   "pygments_lexer": "ipython3",
   "version": "3.11.6"
  }
 },
 "nbformat": 4,
 "nbformat_minor": 2
}
