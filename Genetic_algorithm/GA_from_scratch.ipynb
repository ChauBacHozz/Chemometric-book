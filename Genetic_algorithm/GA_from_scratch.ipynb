{
 "cells": [
  {
   "cell_type": "code",
   "execution_count": 249,
   "metadata": {},
   "outputs": [],
   "source": [
    "import numpy as np\n",
    "import matplotlib.pyplot as plt"
   ]
  },
  {
   "cell_type": "markdown",
   "metadata": {},
   "source": [
    "$ f(x_1, x_2)=x_1^2+x_2^2 $"
   ]
  },
  {
   "cell_type": "code",
   "execution_count": 250,
   "metadata": {},
   "outputs": [],
   "source": [
    "def fittness(x1, x2):\n",
    "    return np.sin(x1)**2 + np.sin(x2)**2"
   ]
  },
  {
   "cell_type": "code",
   "execution_count": 251,
   "metadata": {},
   "outputs": [
    {
     "data": {
      "text/plain": [
       "array([[ -2,   0],\n",
       "       [ -6,   1],\n",
       "       [  1,  -6],\n",
       "       [  6,  -2],\n",
       "       [ -7,  -6],\n",
       "       [  7, -10],\n",
       "       [ -2,  -3],\n",
       "       [ -7,  -4],\n",
       "       [ 10,   9],\n",
       "       [ -7,  -5],\n",
       "       [ -8,  -7],\n",
       "       [  9,  -6],\n",
       "       [ -9, -10],\n",
       "       [  7,   1],\n",
       "       [ -1,   7],\n",
       "       [  4,  -1],\n",
       "       [-10,   5],\n",
       "       [ -1,   0],\n",
       "       [  2,   9],\n",
       "       [ -8,   5],\n",
       "       [ -4,  -1],\n",
       "       [-10,  -1],\n",
       "       [ -6,  -3],\n",
       "       [  4,  -5],\n",
       "       [  0,   6],\n",
       "       [  5,  -3],\n",
       "       [  3,   4],\n",
       "       [  2,   7],\n",
       "       [ -7,  -3],\n",
       "       [  3,  10],\n",
       "       [ -8,   4],\n",
       "       [  3,  -8],\n",
       "       [ -3,   1],\n",
       "       [  1,   9],\n",
       "       [ -4,   2],\n",
       "       [  4,  -1],\n",
       "       [ -1,   1],\n",
       "       [  8,  -8],\n",
       "       [ -4,   3],\n",
       "       [  7, -10],\n",
       "       [  9,  -1],\n",
       "       [  0,   9],\n",
       "       [ -9,   1],\n",
       "       [  2,   5],\n",
       "       [  8,   4],\n",
       "       [  4,  -6],\n",
       "       [  8,  -7],\n",
       "       [  3,  -4],\n",
       "       [  1,  -1],\n",
       "       [-10,  -4]])"
      ]
     },
     "execution_count": 251,
     "metadata": {},
     "output_type": "execute_result"
    }
   ],
   "source": [
    "populationSize = (50, 2)\n",
    "population = np.random.randint(-10, 10+1, size=populationSize)\n",
    "population"
   ]
  },
  {
   "cell_type": "code",
   "execution_count": 252,
   "metadata": {},
   "outputs": [
    {
     "data": {
      "text/plain": [
       "array([0.82682181, 0.78614644, 0.78614644, 0.90489483, 0.50970441,\n",
       "       0.72759036, 0.84673667, 1.00438141, 0.46580061, 1.35116716,\n",
       "       1.41046113, 0.24791467, 0.46580061, 1.13970481, 1.13970481,\n",
       "       1.28082344, 1.21549473, 0.70807342, 0.99666346, 1.8983655 ,\n",
       "       1.28082344, 1.00403239, 0.09798788, 1.49228578, 0.07807302,\n",
       "       0.93945062, 0.59266487, 1.2584532 , 0.45154625, 0.31587383,\n",
       "       1.55157976, 0.9987446 , 0.72798827, 0.87791506, 1.39957183,\n",
       "       1.28082344, 1.41614684, 1.95765948, 0.59266487, 0.72759036,\n",
       "       0.87791506, 0.16984165, 0.87791506, 1.74635757, 1.55157976,\n",
       "       0.65082304, 1.41046113, 0.59266487, 1.41614684, 0.86870899])"
      ]
     },
     "execution_count": 252,
     "metadata": {},
     "output_type": "execute_result"
    }
   ],
   "source": [
    "f1 = fittness(population[:,0], population[:,1])\n",
    "f1"
   ]
  },
  {
   "cell_type": "code",
   "execution_count": 253,
   "metadata": {},
   "outputs": [],
   "source": [
    "def selection(pop):\n",
    "    sorted_pop = sorted(pop, key=lambda x: fittness(x[0], x[1]), reverse=True)\n",
    "    return sorted_pop[:int(len(sorted_pop) * 0.2)]"
   ]
  },
  {
   "cell_type": "code",
   "execution_count": 254,
   "metadata": {},
   "outputs": [],
   "source": [
    "# population = selection(population)\n",
    "# population"
   ]
  },
  {
   "cell_type": "code",
   "execution_count": 255,
   "metadata": {},
   "outputs": [
    {
     "name": "stdout",
     "output_type": "stream",
     "text": [
      "parent 1 [-2  0], parent 2 [-6  1], child = [[-2, 1], [-6, 0]]\n"
     ]
    }
   ],
   "source": [
    "def crossover(p1, p2):\n",
    "    return [[p1[0], p2[1]], [p2[0], p1[1]]]\n",
    "parent1 = population[0]\n",
    "parent2 = population[1]\n",
    "print(f\"parent 1 {parent1}, parent 2 {parent2}, child = {crossover(parent1, parent2)}\")\n"
   ]
  },
  {
   "cell_type": "code",
   "execution_count": 256,
   "metadata": {},
   "outputs": [],
   "source": [
    "def mutate(individual):\n",
    "    x1_new = individual[0] + np.random.uniform(-0.5, 0.5)\n",
    "    x2_new = individual[1] + np.random.uniform(-0.5, 0.5)\n",
    "    return [x1_new, x2_new]"
   ]
  },
  {
   "cell_type": "code",
   "execution_count": 257,
   "metadata": {},
   "outputs": [],
   "source": [
    "MUTATION_RATE = 0.5\n",
    "EPOCHS = 4000\n",
    "for i in range (EPOCHS):\n",
    "    selected = selection(population)\n",
    "    new_population = []\n",
    "    while(len(new_population) < populationSize[0]):\n",
    "        parent1 = selected[np.random.randint(0, len(selected))]\n",
    "        parent2 = selected[np.random.randint(0, len(selected))]\n",
    "\n",
    "        childs = crossover(parent1, parent2)\n",
    "        child1 = childs[0]\n",
    "        child2 = childs[1]\n",
    "\n",
    "        if np.random.random() < MUTATION_RATE:\n",
    "            child1 = mutate(child1)\n",
    "        if np.random.random() < MUTATION_RATE:\n",
    "            child2 = mutate(child2)\n",
    "\n",
    "        new_population.append(child1)\n",
    "        new_population.append(child2)"
   ]
  },
  {
   "cell_type": "code",
   "execution_count": 258,
   "metadata": {},
   "outputs": [],
   "source": [
    "best = sorted(new_population, key=lambda x: fittness(x[0], x[1]), reverse=True)"
   ]
  },
  {
   "cell_type": "code",
   "execution_count": 259,
   "metadata": {},
   "outputs": [
    {
     "data": {
      "text/plain": [
       "[[1.5365081940048184, 1.476565013738707],\n",
       " [-1.3553310482624914, 4.661228665102505],\n",
       " [-8, 5],\n",
       " [-8, -5],\n",
       " [-8, 5],\n",
       " [-7.858963898820156, 5.09137974960123],\n",
       " [-7.739543129101157, 4.301060759211695],\n",
       " [-8.186214491817516, -8.137985372404376],\n",
       " [8.171759881914767, 1.2543144786685225],\n",
       " [-8.073116970780983, 4.259822771854524],\n",
       " [8.226920247433577, 4.359979086037921],\n",
       " [2, 5],\n",
       " [-1.0813396515583356, 4.530342557773034],\n",
       " [-8.160855846905978, 5.132776031588419],\n",
       " [-7.845398728974903, 4.159123055215632],\n",
       " [-8, 1],\n",
       " [8, 1],\n",
       " [8, 1],\n",
       " [8, 1],\n",
       " [-8, -1],\n",
       " [-8, 1],\n",
       " [2.1315837852012858, 1.3754606493718358],\n",
       " [-8.17868635233858, -7.344318865116444],\n",
       " [-0.9950457761831393, -7.635218100652933],\n",
       " [-1.075872470363206, 4.333208781771653],\n",
       " [1, 5],\n",
       " [1, -5],\n",
       " [-8, 4],\n",
       " [8, 4],\n",
       " [-8, 4],\n",
       " [4, -5],\n",
       " [4, -5],\n",
       " [8.253755373765207, 4.054034780171147],\n",
       " [-8, -7],\n",
       " [-8, -7],\n",
       " [-8, -7],\n",
       " [8, -7],\n",
       " [1.5181708997881773, -0.6907514190427547],\n",
       " [1.177105022008981, 3.9419145590390334],\n",
       " [2.188196671993462, -7.2620806711845995],\n",
       " [7.772769904095094, 0.595393051613536],\n",
       " [4, -1],\n",
       " [-0.5447661668845684, 4.4119855436141195],\n",
       " [-1, -7],\n",
       " [-1, -7],\n",
       " [-1.1368124429975288, 3.5619696390818145],\n",
       " [0.5260726491248202, 0.731946609126858],\n",
       " [3.80329752775359, 3.6070434083787273],\n",
       " [-0.5134160022854027, -0.5287836114960158],\n",
       " [-0.6164351556777644, -6.629721380487245]]"
      ]
     },
     "execution_count": 259,
     "metadata": {},
     "output_type": "execute_result"
    }
   ],
   "source": [
    "best"
   ]
  },
  {
   "cell_type": "code",
   "execution_count": 260,
   "metadata": {},
   "outputs": [
    {
     "data": {
      "text/plain": [
       "1.9899714952376775"
      ]
     },
     "execution_count": 260,
     "metadata": {},
     "output_type": "execute_result"
    }
   ],
   "source": [
    "np.sin(best[0][0])**2 + np.sin(best[0][1])**2"
   ]
  }
 ],
 "metadata": {
  "kernelspec": {
   "display_name": "Python 3",
   "language": "python",
   "name": "python3"
  },
  "language_info": {
   "codemirror_mode": {
    "name": "ipython",
    "version": 3
   },
   "file_extension": ".py",
   "mimetype": "text/x-python",
   "name": "python",
   "nbconvert_exporter": "python",
   "pygments_lexer": "ipython3",
   "version": "3.11.6"
  }
 },
 "nbformat": 4,
 "nbformat_minor": 2
}
