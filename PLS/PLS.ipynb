{
 "cells": [
  {
   "cell_type": "code",
   "execution_count": 4,
   "metadata": {},
   "outputs": [
    {
     "ename": "UFuncTypeError",
     "evalue": "Cannot cast ufunc 'subtract' output from dtype('float64') to dtype('int32') with casting rule 'same_kind'",
     "output_type": "error",
     "traceback": [
      "\u001b[1;31m---------------------------------------------------------------------------\u001b[0m",
      "\u001b[1;31mUFuncTypeError\u001b[0m                            Traceback (most recent call last)",
      "Cell \u001b[1;32mIn[4], line 41\u001b[0m\n\u001b[0;32m     37\u001b[0m \u001b[38;5;66;03m# Example usage:\u001b[39;00m\n\u001b[0;32m     38\u001b[0m \u001b[38;5;66;03m# Assuming X is your input matrix\u001b[39;00m\n\u001b[0;32m     39\u001b[0m X \u001b[38;5;241m=\u001b[39m np\u001b[38;5;241m.\u001b[39marray([[\u001b[38;5;241m1\u001b[39m, \u001b[38;5;241m2\u001b[39m, \u001b[38;5;241m3\u001b[39m], [\u001b[38;5;241m4\u001b[39m, \u001b[38;5;241m5\u001b[39m, \u001b[38;5;241m6\u001b[39m], [\u001b[38;5;241m7\u001b[39m, \u001b[38;5;241m8\u001b[39m, \u001b[38;5;241m9\u001b[39m]])\n\u001b[1;32m---> 41\u001b[0m result \u001b[38;5;241m=\u001b[39m \u001b[43mnipals_pca\u001b[49m\u001b[43m(\u001b[49m\u001b[43mX\u001b[49m\u001b[43m,\u001b[49m\u001b[43m \u001b[49m\u001b[43mn_components\u001b[49m\u001b[38;5;241;43m=\u001b[39;49m\u001b[38;5;241;43m2\u001b[39;49m\u001b[43m)\u001b[49m\n\u001b[0;32m     42\u001b[0m \u001b[38;5;28mprint\u001b[39m(result)\n",
      "Cell \u001b[1;32mIn[4], line 33\u001b[0m, in \u001b[0;36mnipals_pca\u001b[1;34m(X, n_components, tol, max_iter)\u001b[0m\n\u001b[0;32m     30\u001b[0m     P[:, i] \u001b[38;5;241m=\u001b[39m p\n\u001b[0;32m     31\u001b[0m     W[:, i] \u001b[38;5;241m=\u001b[39m w\n\u001b[1;32m---> 33\u001b[0m     \u001b[43mX\u001b[49m\u001b[43m \u001b[49m\u001b[38;5;241;43m-\u001b[39;49m\u001b[38;5;241;43m=\u001b[39;49m\u001b[43m \u001b[49m\u001b[43mnp\u001b[49m\u001b[38;5;241;43m.\u001b[39;49m\u001b[43mouter\u001b[49m\u001b[43m(\u001b[49m\u001b[43mt\u001b[49m\u001b[43m,\u001b[49m\u001b[43m \u001b[49m\u001b[43mp\u001b[49m\u001b[43m)\u001b[49m\n\u001b[0;32m     35\u001b[0m \u001b[38;5;28;01mreturn\u001b[39;00m {\u001b[38;5;124m'\u001b[39m\u001b[38;5;124mscores\u001b[39m\u001b[38;5;124m'\u001b[39m: T, \u001b[38;5;124m'\u001b[39m\u001b[38;5;124mloadings\u001b[39m\u001b[38;5;124m'\u001b[39m: P, \u001b[38;5;124m'\u001b[39m\u001b[38;5;124mweights\u001b[39m\u001b[38;5;124m'\u001b[39m: W}\n",
      "\u001b[1;31mUFuncTypeError\u001b[0m: Cannot cast ufunc 'subtract' output from dtype('float64') to dtype('int32') with casting rule 'same_kind'"
     ]
    }
   ],
   "source": [
    "import numpy as np\n",
    "\n",
    "def nipals(X, n_components, tol=1e-6, max_iter=100):\n",
    "    n_samples, n_features = X.shape\n",
    "\n",
    "    # Initialize matrices\n",
    "    T = np.zeros((n_samples, n_components))\n",
    "    P = np.zeros((n_features, n_components))\n",
    "    W = np.zeros((n_features, n_components))\n",
    "\n",
    "    for i in range(n_components):\n",
    "        t = X[:, 0].copy().astype(float)  # Ensure float datatype\n",
    "        t /= np.linalg.norm(t)\n",
    "\n",
    "        it = 0\n",
    "        while True:\n",
    "            w = np.dot(X.T, t)\n",
    "            w /= np.linalg.norm(w)\n",
    "\n",
    "            p = np.dot(X.T, w)\n",
    "            p /= np.linalg.norm(p)\n",
    "\n",
    "            t_new = np.dot(X, p)\n",
    "            if np.linalg.norm(t - t_new) < tol or it >= max_iter:\n",
    "                break\n",
    "            t = t_new\n",
    "            it += 1\n",
    "\n",
    "        T[:, i] = t\n",
    "        P[:, i] = p\n",
    "        W[:, i] = w\n",
    "\n",
    "        X -= np.outer(t, p)\n",
    "\n",
    "    return {'scores': T, 'loadings': P, 'weights': W}\n",
    "\n",
    "# Example usage:\n",
    "# Assuming X is your input matrix\n",
    "X = np.array([[1, 2, 3], [4, 5, 6], [7, 8, 9]])\n",
    "\n",
    "result = nipals_pca(X, n_components=2)\n",
    "print(result)\n"
   ]
  },
  {
   "cell_type": "code",
   "execution_count": null,
   "metadata": {},
   "outputs": [],
   "source": []
  }
 ],
 "metadata": {
  "kernelspec": {
   "display_name": "Python 3",
   "language": "python",
   "name": "python3"
  },
  "language_info": {
   "codemirror_mode": {
    "name": "ipython",
    "version": 3
   },
   "file_extension": ".py",
   "mimetype": "text/x-python",
   "name": "python",
   "nbconvert_exporter": "python",
   "pygments_lexer": "ipython3",
   "version": "3.11.6"
  }
 },
 "nbformat": 4,
 "nbformat_minor": 2
}
